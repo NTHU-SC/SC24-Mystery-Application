{
 "cells": [
  {
   "cell_type": "markdown",
   "metadata": {},
   "source": [
    "## Model weight download"
   ]
  },
  {
   "cell_type": "code",
   "execution_count": null,
   "metadata": {
    "vscode": {
     "languageId": "plaintext"
    }
   },
   "outputs": [],
   "source": [
    "!pip install ultralytics"
   ]
  },
  {
   "cell_type": "code",
   "execution_count": null,
   "metadata": {
    "vscode": {
     "languageId": "plaintext"
    }
   },
   "outputs": [],
   "source": [
    "from ultralytics import YOLO\n",
    "import os\n",
    "from PIL import Image, ImageDraw\n",
    "\n",
    "model = YOLO(\"yolo11x.pt\") "
   ]
  },
  {
   "cell_type": "markdown",
   "metadata": {},
   "source": [
    "## Dataset download"
   ]
  },
  {
   "cell_type": "code",
   "execution_count": null,
   "metadata": {
    "vscode": {
     "languageId": "plaintext"
    }
   },
   "outputs": [],
   "source": [
    "!mkdir cat-dataset\n",
    "!cd ./cat-dataset/\n",
    "!curl -L \"https://universe.roboflow.com/ds/iSB9KC2AC6?key=hUL7Yp79r1\" > roboflow.zip; unzip roboflow.zip; rm roboflow.zip"
   ]
  },
  {
   "cell_type": "markdown",
   "metadata": {},
   "source": [
    "## Model Evaluate"
   ]
  },
  {
   "cell_type": "code",
   "execution_count": null,
   "metadata": {
    "vscode": {
     "languageId": "plaintext"
    }
   },
   "outputs": [],
   "source": [
    "# Run validation on the dataset\n",
    "metrics = model.val(\n",
    "    data=\"path/to/dataset/yaml\",  # Path to dataset YAML file\n",
    "    split='test',  # Use the test set instead of the validation set\n",
    "    imgsz=640,  # Image size\n",
    "    batch=16,    # Batch size\n",
    "    project=\"output/dir\",  # Custom output directory\n",
    "    name=\"cat_detection\",  # Subdirectory for this specific run\n",
    "    device=0,    \n",
    "    classes=[0] # Cat class\n",
    ")\n",
    "\n",
    "precision = metrics.results_dict['metrics/precision(B)']\n",
    "recall = metrics.results_dict['metrics/recall(B)']\n",
    "\n",
    "print(f\"Precision: {precision:.2f}\")\n",
    "print(f\"Recall: {recall:.2f}\")\n"
   ]
  },
  {
   "cell_type": "markdown",
   "metadata": {},
   "source": [
    "## Inference"
   ]
  },
  {
   "cell_type": "code",
   "execution_count": null,
   "metadata": {
    "vscode": {
     "languageId": "plaintext"
    }
   },
   "outputs": [],
   "source": []
  }
 ],
 "metadata": {
  "language_info": {
   "name": "python"
  }
 },
 "nbformat": 4,
 "nbformat_minor": 2
}
